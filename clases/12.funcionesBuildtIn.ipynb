{
 "cells": [
  {
   "cell_type": "markdown",
   "id": "a68c99ad",
   "metadata": {},
   "source": [
    "## Ejemplos de funciones build-in #2\n",
    "\n",
    "### range()"
   ]
  },
  {
   "cell_type": "code",
   "execution_count": 23,
   "metadata": {},
   "outputs": [
    {
     "name": "stdout",
     "output_type": "stream",
     "text": [
      "0\n",
      "1\n",
      "2\n",
      "3\n",
      "4\n"
     ]
    }
   ],
   "source": [
    "for n in range(5):\n",
    "    print(n)"
   ]
  },
  {
   "cell_type": "code",
   "execution_count": 24,
   "id": "0fee2fce",
   "metadata": {},
   "outputs": [
    {
     "name": "stdout",
     "output_type": "stream",
     "text": [
      "1\n",
      "2\n",
      "3\n",
      "4\n",
      "5\n"
     ]
    }
   ],
   "source": [
    "for n in range(1, 6):\n",
    "    print(n)"
   ]
  },
  {
   "cell_type": "code",
   "execution_count": 25,
   "id": "570d0a5d",
   "metadata": {},
   "outputs": [
    {
     "name": "stdout",
     "output_type": "stream",
     "text": [
      "0\n",
      "2\n",
      "4\n",
      "6\n",
      "8\n"
     ]
    }
   ],
   "source": [
    "for n in range(0, 10, 2):\n",
    "    print(n)"
   ]
  },
  {
   "cell_type": "code",
   "execution_count": 26,
   "id": "2a148a37",
   "metadata": {},
   "outputs": [
    {
     "name": "stdout",
     "output_type": "stream",
     "text": [
      "5\n",
      "4\n",
      "3\n",
      "2\n",
      "1\n"
     ]
    }
   ],
   "source": [
    "for n in range(5, 0, -1):\n",
    "    print(n)"
   ]
  },
  {
   "cell_type": "code",
   "execution_count": 27,
   "id": "56bbe3e5",
   "metadata": {},
   "outputs": [
    {
     "name": "stdout",
     "output_type": "stream",
     "text": [
      "[2, 4, 6, 8, 10, 12, 14, 16, 18, 20, 22, 24, 26, 28, 30, 32, 34, 36, 38, 40, 42, 44, 46, 48, 50, 52, 54, 56, 58, 60, 62, 64, 66, 68, 70, 72, 74, 76, 78, 80, 82, 84, 86, 88, 90, 92, 94, 96, 98]\n"
     ]
    }
   ],
   "source": [
    "lista_numeros = []\n",
    "for n in range(2, 100, 2):\n",
    "    lista_numeros.append(n)\n",
    "\n",
    "print(lista_numeros)"
   ]
  },
  {
   "cell_type": "markdown",
   "id": "c923e0ca",
   "metadata": {},
   "source": [
    "### enumerate() -> índice y valor juntos"
   ]
  },
  {
   "cell_type": "code",
   "execution_count": 28,
   "id": "34d49af8",
   "metadata": {},
   "outputs": [
    {
     "name": "stdout",
     "output_type": "stream",
     "text": [
      "En la posición 0 se encuentra la fruta manzana\n",
      "En la posición 1 se encuentra la fruta platano\n",
      "En la posición 2 se encuentra la fruta pera\n",
      "En la posición 3 se encuentra la fruta mandarina\n",
      "En la posición 4 se encuentra la fruta naranja\n"
     ]
    }
   ],
   "source": [
    "frutas = [\"manzana\", \"platano\", \"pera\", \"mandarina\", \"naranja\"]\n",
    "\n",
    "for i, fruta in enumerate(frutas):\n",
    "    print(f\"En la posición {i} se encuentra la fruta {fruta}\")"
   ]
  },
  {
   "cell_type": "code",
   "execution_count": 29,
   "id": "8014a218",
   "metadata": {},
   "outputs": [
    {
     "name": "stdout",
     "output_type": "stream",
     "text": [
      "En la posición 1 se encuentra la fruta manzana\n",
      "En la posición 2 se encuentra la fruta platano\n",
      "En la posición 3 se encuentra la fruta pera\n",
      "En la posición 4 se encuentra la fruta mandarina\n",
      "En la posición 5 se encuentra la fruta naranja\n"
     ]
    }
   ],
   "source": [
    "for i, fruta in enumerate(frutas, 1):\n",
    "    print(f\"En la posición {i} se encuentra la fruta {fruta}\")"
   ]
  },
  {
   "cell_type": "code",
   "execution_count": 30,
   "id": "0546014c",
   "metadata": {},
   "outputs": [
    {
     "name": "stdout",
     "output_type": "stream",
     "text": [
      " 0: p\n",
      " 1: r\n",
      " 2: o\n",
      " 3: g\n",
      " 4: r\n",
      " 5: a\n",
      " 6: m\n",
      " 7: a\n",
      " 8: c\n",
      " 9: i\n",
      "10: ó\n",
      "11: n\n"
     ]
    }
   ],
   "source": [
    "palabra = \"programación\"\n",
    "\n",
    "for i, caracter in enumerate(palabra):\n",
    "    print(f\"{i:2d}: {caracter}\")"
   ]
  },
  {
   "cell_type": "markdown",
   "id": "f6ebb22c",
   "metadata": {},
   "source": [
    "### zip() -> recorre varios iterables y genera tuplas"
   ]
  },
  {
   "cell_type": "code",
   "execution_count": 31,
   "id": "a98e48a3",
   "metadata": {},
   "outputs": [
    {
     "name": "stdout",
     "output_type": "stream",
     "text": [
      "Jorge tiene de nota un 7\n",
      "Manuel tiene de nota un 5\n",
      "Gonzalo tiene de nota un 6\n",
      "Victor tiene de nota un 8\n"
     ]
    }
   ],
   "source": [
    "alumnos = [\"Jorge\", \"Manuel\", \"Gonzalo\", \"Victor\", \"Daniel\"]\n",
    "notas = [7, 5, 6, 8]\n",
    "\n",
    "for alumno, nota in zip(alumnos, notas):\n",
    "    print(f\"{alumno} tiene de nota un {nota}\")"
   ]
  },
  {
   "cell_type": "code",
   "execution_count": 32,
   "id": "1dd8b9cd",
   "metadata": {},
   "outputs": [
    {
     "name": "stdout",
     "output_type": "stream",
     "text": [
      "{'Jorge': 7, 'Manuel': 5, 'Gonzalo': 6, 'Victor': 8}\n"
     ]
    }
   ],
   "source": [
    "boletin = dict(zip(alumnos, notas))\n",
    "print(boletin)"
   ]
  },
  {
   "cell_type": "code",
   "execution_count": 36,
   "id": "d74035d8",
   "metadata": {},
   "outputs": [
    {
     "name": "stdout",
     "output_type": "stream",
     "text": [
      "8.20\n"
     ]
    }
   ],
   "source": [
    "componentes = [\"Examen\", \"Proyecto\", \"Asistencia\"]\n",
    "pesos = [0.6, 0.3, 0.1]\n",
    "notas = [8, 9, 7]\n",
    "\n",
    "total = sum(peso * nota for peso, nota in zip(pesos, notas))\n",
    "print(f\"{total:.2f}\")"
   ]
  }
 ],
 "metadata": {
  "kernelspec": {
   "display_name": "Python 3",
   "language": "python",
   "name": "python3"
  },
  "language_info": {
   "codemirror_mode": {
    "name": "ipython",
    "version": 3
   },
   "file_extension": ".py",
   "mimetype": "text/x-python",
   "name": "python",
   "nbconvert_exporter": "python",
   "pygments_lexer": "ipython3",
   "version": "3.13.3"
  }
 },
 "nbformat": 4,
 "nbformat_minor": 5
}

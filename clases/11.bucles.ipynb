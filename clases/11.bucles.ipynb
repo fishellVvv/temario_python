{
 "cells": [
  {
   "cell_type": "markdown",
   "id": "0949e158",
   "metadata": {},
   "source": [
    "## Bucles"
   ]
  },
  {
   "cell_type": "code",
   "execution_count": 1,
   "id": "33c0b987",
   "metadata": {},
   "outputs": [
    {
     "name": "stdout",
     "output_type": "stream",
     "text": [
      "Hoy es lunes\n",
      "Hoy es domingo\n",
      "Hoy es martes\n",
      "Hoy es miercoles\n",
      "Hoy es jueves\n",
      "Hoy es sabado\n",
      "Hoy es viernes\n"
     ]
    }
   ],
   "source": [
    "dias_semana = {\"lunes\", \"martes\", \"miercoles\", \"jueves\", \"viernes\", \"sabado\", \"domingo\"}\n",
    "\n",
    "for dia in dias_semana:\n",
    "    print(f\"Hoy es {dia}\")"
   ]
  },
  {
   "cell_type": "code",
   "execution_count": 2,
   "id": "64c68a4d",
   "metadata": {},
   "outputs": [
    {
     "name": "stdout",
     "output_type": "stream",
     "text": [
      "['LUNES', 'DOMINGO', 'MARTES', 'MIERCOLES', 'JUEVES', 'SABADO', 'VIERNES']\n"
     ]
    }
   ],
   "source": [
    "dias_semana_mayus = []\n",
    "\n",
    "for dia in dias_semana:\n",
    "    dias_semana_mayus.append(dia.upper())\n",
    "\n",
    "print(dias_semana_mayus)"
   ]
  },
  {
   "cell_type": "code",
   "execution_count": 3,
   "id": "0f2559b4",
   "metadata": {},
   "outputs": [
    {
     "name": "stdout",
     "output_type": "stream",
     "text": [
      "2\n",
      "4\n",
      "6\n",
      "8\n",
      "10\n"
     ]
    }
   ],
   "source": [
    "numeros = [1, 2, 3, 4, 5, 6, 7, 8, 9, 10]\n",
    "\n",
    "for num in numeros:\n",
    "    if num % 2 == 0:\n",
    "        print(num)"
   ]
  },
  {
   "cell_type": "code",
   "execution_count": 6,
   "id": "7d2f813a",
   "metadata": {},
   "outputs": [
    {
     "name": "stdout",
     "output_type": "stream",
     "text": [
      "La posición 0 tiene el elemento rojo\n",
      "La posición 1 tiene el elemento verde\n",
      "La posición 2 tiene el elemento azul\n"
     ]
    }
   ],
   "source": [
    "colores = [\"rojo\", \"verde\", \"azul\"]\n",
    "\n",
    "for i in range(len(colores)):\n",
    "    color = colores[i]\n",
    "    print(f\"La posición {i} tiene el elemento {color}\")"
   ]
  },
  {
   "cell_type": "code",
   "execution_count": 8,
   "id": "723d8bb9",
   "metadata": {},
   "outputs": [
    {
     "name": "stdout",
     "output_type": "stream",
     "text": [
      "['ciancia ficción', 'acción', 'drama', 'fantasía']\n"
     ]
    }
   ],
   "source": [
    "categorias = (\"ciancia ficción\", \"acción\", \"drama\", \"fantasía\")\n",
    "categorias_lista = []\n",
    "\n",
    "for categoria in categorias:\n",
    "    categorias_lista.append(categoria)\n",
    "\n",
    "print(categorias_lista)"
   ]
  },
  {
   "cell_type": "code",
   "execution_count": 18,
   "id": "a6cda1e3",
   "metadata": {},
   "outputs": [
    {
     "name": "stdout",
     "output_type": "stream",
     "text": [
      "title\n",
      "year\n",
      "director\n",
      "duration\n",
      "The batman\n",
      "2022\n",
      "Matt Reeves\n",
      "190\n",
      "la clave 'title' tiene el valor 'The batman'\n",
      "la clave 'year' tiene el valor '2022'\n",
      "la clave 'director' tiene el valor 'Matt Reeves'\n",
      "la clave 'duration' tiene el valor '190'\n"
     ]
    }
   ],
   "source": [
    "movie = {\n",
    "    \"title\": \"The batman\",\n",
    "    \"year\": 2022,\n",
    "    \"director\": \"Matt Reeves\",\n",
    "    \"duration\": 190,\n",
    "}\n",
    "\n",
    "for key in movie:\n",
    "    print(key)\n",
    "\n",
    "for value in movie.values():\n",
    "    print(value)\n",
    "\n",
    "for key, value in movie.items():\n",
    "    print(f\"la clave '{key}' tiene el valor '{value}'\")"
   ]
  },
  {
   "cell_type": "code",
   "execution_count": 21,
   "id": "105c75d9",
   "metadata": {},
   "outputs": [
    {
     "name": "stdout",
     "output_type": "stream",
     "text": [
      "La estación primavera tiene la posicion 0\n",
      "La estación verano tiene la posicion 1\n",
      "La estación otoño tiene la posicion 2\n",
      "La estación invierno tiene la posicion 3\n"
     ]
    }
   ],
   "source": [
    "estaciones = [\"primavera\", \"verano\", \"otoño\", \"invierno\"]\n",
    "\n",
    "for i, estacion in enumerate(estaciones):\n",
    "    print(f\"La estación {estacion} tiene la posicion {i}\")"
   ]
  }
 ],
 "metadata": {
  "kernelspec": {
   "display_name": "Python 3",
   "language": "python",
   "name": "python3"
  },
  "language_info": {
   "codemirror_mode": {
    "name": "ipython",
    "version": 3
   },
   "file_extension": ".py",
   "mimetype": "text/x-python",
   "name": "python",
   "nbconvert_exporter": "python",
   "pygments_lexer": "ipython3",
   "version": "3.13.3"
  }
 },
 "nbformat": 4,
 "nbformat_minor": 5
}

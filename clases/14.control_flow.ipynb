{
 "cells": [
  {
   "cell_type": "markdown",
   "id": "26245aa4",
   "metadata": {},
   "source": [
    "## Control Flow"
   ]
  },
  {
   "cell_type": "code",
   "execution_count": null,
   "id": "219e829d",
   "metadata": {},
   "outputs": [],
   "source": [
    "# break -> termina del bucle\n",
    "# continue -> rompo la vuelta actual y continuo con las siguientes\n",
    "# pass -> no hace nada\n",
    "# else -> se ejecuta en caso de que terminamos un bucle sin forzarlo como break"
   ]
  },
  {
   "cell_type": "code",
   "execution_count": null,
   "id": "0cb7ed2c",
   "metadata": {},
   "outputs": [
    {
     "name": "stdout",
     "output_type": "stream",
     "text": [
      "10\n"
     ]
    }
   ],
   "source": [
    "# break\n",
    "nums = [2, 4, 4, 5, 6]\n",
    "suma = 0\n",
    "\n",
    "for n in nums:\n",
    "    if (n % 2 != 0):\n",
    "        break\n",
    "    suma += n\n",
    "\n",
    "print(suma)"
   ]
  },
  {
   "cell_type": "code",
   "execution_count": 3,
   "id": "41dcc81a",
   "metadata": {},
   "outputs": [
    {
     "name": "stdout",
     "output_type": "stream",
     "text": [
      "25\n"
     ]
    }
   ],
   "source": [
    "# continue\n",
    "suma_impares = 0\n",
    "\n",
    "for n in range(1, 11):\n",
    "    if (n % 2 == 0):\n",
    "        continue\n",
    "    suma_impares += n\n",
    "\n",
    "print(suma_impares)"
   ]
  },
  {
   "cell_type": "code",
   "execution_count": 4,
   "id": "419dc03b",
   "metadata": {},
   "outputs": [
    {
     "name": "stdout",
     "output_type": "stream",
     "text": [
      "1\n",
      "3\n"
     ]
    }
   ],
   "source": [
    "# pass\n",
    "for n in [1, 2, 3]:\n",
    "    if (n == 2):\n",
    "        pass\n",
    "    else:\n",
    "        print(n)"
   ]
  },
  {
   "cell_type": "code",
   "execution_count": 5,
   "id": "68f5888b",
   "metadata": {},
   "outputs": [
    {
     "name": "stdout",
     "output_type": "stream",
     "text": [
      "No he encontrado el nombre\n"
     ]
    }
   ],
   "source": [
    "# else\n",
    "nombres = [\"David\", \"Jorge\", \"Carlos\", \"Gonzalo\"]\n",
    "\n",
    "for nombre in nombres:\n",
    "    if (nombre == \"Julio\"):\n",
    "        print(\"Encontrado\")\n",
    "        break\n",
    "else:\n",
    "    print(\"No he encontrado el nombre\")"
   ]
  }
 ],
 "metadata": {
  "kernelspec": {
   "display_name": "Python 3",
   "language": "python",
   "name": "python3"
  },
  "language_info": {
   "codemirror_mode": {
    "name": "ipython",
    "version": 3
   },
   "file_extension": ".py",
   "mimetype": "text/x-python",
   "name": "python",
   "nbconvert_exporter": "python",
   "pygments_lexer": "ipython3",
   "version": "3.13.3"
  }
 },
 "nbformat": 4,
 "nbformat_minor": 5
}

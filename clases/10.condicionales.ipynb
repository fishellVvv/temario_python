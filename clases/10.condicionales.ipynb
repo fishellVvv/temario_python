{
 "cells": [
  {
   "cell_type": "markdown",
   "id": "c9b54e40",
   "metadata": {},
   "source": [
    "## Condicionales"
   ]
  },
  {
   "cell_type": "code",
   "execution_count": 17,
   "id": "4e4736b7",
   "metadata": {},
   "outputs": [],
   "source": [
    "espectadores = 10\n",
    "puntuacion = 8\n",
    "dia = \"viernes\"\n",
    "hora = 17"
   ]
  },
  {
   "cell_type": "code",
   "execution_count": 14,
   "id": "a14146f1",
   "metadata": {},
   "outputs": [
    {
     "name": "stdout",
     "output_type": "stream",
     "text": [
      "Abrimos la sala de cine\n"
     ]
    }
   ],
   "source": [
    "if espectadores > 0:\n",
    "    print(\"Abrimos la sala de cine\")"
   ]
  },
  {
   "cell_type": "code",
   "execution_count": 15,
   "id": "e22ebb6f",
   "metadata": {},
   "outputs": [
    {
     "name": "stdout",
     "output_type": "stream",
     "text": [
      "Abrimos la sala de cine\n"
     ]
    }
   ],
   "source": [
    "if espectadores > 0:\n",
    "    print(\"Abrimos la sala de cine\")\n",
    "else:\n",
    "    print(\"Sala cerrada\")"
   ]
  },
  {
   "cell_type": "code",
   "execution_count": 16,
   "id": "a349d1d6",
   "metadata": {},
   "outputs": [
    {
     "name": "stdout",
     "output_type": "stream",
     "text": [
      "Muy buena\n"
     ]
    }
   ],
   "source": [
    "if puntuacion >= 9:\n",
    "    print(\"Obra maestra\")\n",
    "elif puntuacion >= 7:\n",
    "    print(\"Muy buena\")\n",
    "elif puntuacion >= 5:\n",
    "    print(\"Aceptable\")\n",
    "else:\n",
    "    print(\"Floja\")"
   ]
  },
  {
   "cell_type": "code",
   "execution_count": 18,
   "id": "24ac9cc1",
   "metadata": {},
   "outputs": [
    {
     "name": "stdout",
     "output_type": "stream",
     "text": [
      "Sesión especial de tarde\n"
     ]
    }
   ],
   "source": [
    "if dia == \"viernes\" and hora >= 15:\n",
    "    print(\"Sesión especial de tarde\")\n",
    "elif dia == \"sabado\" or dia == \"domingo\":\n",
    "    print(\"sesión de fin de semana\")\n",
    "else:\n",
    "    print(\"Sesión ordinaria\")"
   ]
  },
  {
   "cell_type": "code",
   "execution_count": 28,
   "id": "42f7855c",
   "metadata": {},
   "outputs": [
    {
     "name": "stdout",
     "output_type": "stream",
     "text": [
      "jugador1 gana [J1: piedra - J2: tijera]\n"
     ]
    }
   ],
   "source": [
    "import random\n",
    "opciones = [\"piedra\", \"papel\", \"tijera\"]\n",
    "\n",
    "jugador1 = input(\"J1: \")\n",
    "jugador2 = random.choice(opciones)\n",
    "\n",
    "if jugador1 == jugador2:\n",
    "    print(f\"empate [J1: {jugador1} - J2: {jugador2}]\")\n",
    "elif(jugador1 == \"piedra\" and jugador2 == \"tijera\"):\n",
    "    print(f\"jugador1 gana [J1: {jugador1} - J2: {jugador2}]\")\n",
    "elif(jugador1 == \"tijera\" and jugador2 == \"papel\"):\n",
    "    print(f\"jugador1 gana [J1: {jugador1} - J2: {jugador2}]\")\n",
    "elif(jugador1 == \"papel\" and jugador2 == \"piedra\"):\n",
    "    print(f\"jugador1 gana [J1: {jugador1} - J2: {jugador2}]\")\n",
    "else:\n",
    "    print(f\"jugador2 gana [J1: {jugador1} - J2: {jugador2}]\")"
   ]
  }
 ],
 "metadata": {
  "kernelspec": {
   "display_name": "Python 3",
   "language": "python",
   "name": "python3"
  },
  "language_info": {
   "codemirror_mode": {
    "name": "ipython",
    "version": 3
   },
   "file_extension": ".py",
   "mimetype": "text/x-python",
   "name": "python",
   "nbconvert_exporter": "python",
   "pygments_lexer": "ipython3",
   "version": "3.13.3"
  }
 },
 "nbformat": 4,
 "nbformat_minor": 5
}
